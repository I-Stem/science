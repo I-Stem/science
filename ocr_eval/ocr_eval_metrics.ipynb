{
 "cells": [
  {
   "cell_type": "code",
   "execution_count": 1,
   "metadata": {},
   "outputs": [],
   "source": [
    "import json,os"
   ]
  },
  {
   "cell_type": "code",
   "execution_count": 2,
   "metadata": {},
   "outputs": [],
   "source": [
    "for file in os.listdir(\"/home/eklavya/Downloads/ocr_eval/results/\"):\n",
    "    if \".json\" not in file:continue\n",
    "    with open(\"/home/eklavya/Downloads/ocr_eval/results/\"+file) as f:\n",
    "        js=json.load(f)\n",
    "        keys=js.keys()\n",
    "    break"
   ]
  },
  {
   "cell_type": "code",
   "execution_count": 8,
   "metadata": {},
   "outputs": [
    {
     "name": "stdout",
     "output_type": "stream",
     "text": [
      "count =  68\n",
      "tables recall=  0.8529411764705882\n",
      "table precision 0.8787878787878788\n",
      "text accuracy=  0.9173997877657207\n",
      "table text accuracy=  0.9084132055378061\n"
     ]
    }
   ],
   "source": [
    "net={}\n",
    "for i in keys:\n",
    "    net[i]=0\n",
    "net['table_correct_words']=0\n",
    "net['table_total_words']=0\n",
    "net['table_mismatch']=0\n",
    "count=0\n",
    "for file in os.listdir(\"/home/eklavya/Downloads/output_all/\"):\n",
    "    if \".json\" not in file:continue\n",
    "    count +=1\n",
    "    with open(\"/home/eklavya/Downloads/output_all/\"+file) as f:\n",
    "        js=json.load(f)\n",
    "        net['figure_ground_truths']+=js[\"figure_ground_truths\"]\n",
    "        net['table_correctly_predicted']+=js[\"table_correctly_predicted\"]\n",
    "        net['table_detections']+=js[\"table_detections\"]\n",
    "        net['table_ground_truths']+=js[\"table_ground_truths\"]\n",
    "        net['text_recognition_total_words']+=js[\"text_recognition_total_words\"]\n",
    "        net['text_recognition_correctly_predicted']+=js[\"text_recognition_correctly_predicted\"]\n",
    "        for i in js['table_recognition_results']:\n",
    "            if i[0]=='Recognised':\n",
    "                net['table_correct_words']+=int(i[2])\n",
    "                net['table_total_words']+=int(i[4])\n",
    "            if i[0]== \"shape mismatch\":\n",
    "                net['table_mismatch']+=1\n",
    "        if js['column_prediction']:\n",
    "            net[\"column_prediction\"]+=1\n",
    "        else :net[\"column_prediction\"]-=1\n",
    "print(\"count = \",count)\n",
    "print(\"tables recall= \",(net['table_correctly_predicted']-net['table_mismatch'])/(net['table_ground_truths']-net['table_mismatch']))\n",
    "print('table precision',(net['table_correctly_predicted']-net['table_mismatch'])/(net['table_detections']-net['table_mismatch']))\n",
    "print(\"text accuracy= \",net['text_recognition_correctly_predicted']/net['text_recognition_total_words'])\n",
    "print(\"table text accuracy= \",net['table_correct_words']/net['table_total_words'])"
   ]
  }
 ],
 "metadata": {
  "kernelspec": {
   "display_name": "Python 3",
   "language": "python",
   "name": "python3"
  },
  "language_info": {
   "codemirror_mode": {
    "name": "ipython",
    "version": 3
   },
   "file_extension": ".py",
   "mimetype": "text/x-python",
   "name": "python",
   "nbconvert_exporter": "python",
   "pygments_lexer": "ipython3",
   "version": "3.7.6"
  }
 },
 "nbformat": 4,
 "nbformat_minor": 4
}
